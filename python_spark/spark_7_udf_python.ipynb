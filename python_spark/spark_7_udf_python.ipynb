{
 "cells": [
  {
   "cell_type": "code",
   "execution_count": 1,
   "metadata": {
    "collapsed": false
   },
   "outputs": [
    {
     "data": {
      "text/plain": [
       "'local[*]'"
      ]
     },
     "execution_count": 1,
     "metadata": {},
     "output_type": "execute_result"
    }
   ],
   "source": [
    "sc.master"
   ]
  },
  {
   "cell_type": "code",
   "execution_count": 29,
   "metadata": {
    "collapsed": true
   },
   "outputs": [],
   "source": [
    "from pyspark.sql.functions import udf,col\n",
    "from pyspark.sql.types import IntegerType"
   ]
  },
  {
   "cell_type": "code",
   "execution_count": 2,
   "metadata": {
    "collapsed": true
   },
   "outputs": [],
   "source": [
    "a=[1,2,3]\n",
    "b=[ab+1 for ab in a]"
   ]
  },
  {
   "cell_type": "code",
   "execution_count": 13,
   "metadata": {
    "collapsed": false
   },
   "outputs": [
    {
     "name": "stdout",
     "output_type": "stream",
     "text": [
      "[['Leo', 16], ['Marry', 21], ['Jack', 14], ['Tom', 18]]\n"
     ]
    }
   ],
   "source": [
    "userData = [[\"Leo\", 16], [\"Marry\", 21], \n",
    "                     [\"Jack\", 14], [\"Tom\", 18]]\n",
    "print(userData)\n",
    "# 创建测试df\n",
    "#pyspark  toDF need list[]\n",
    "userDF = sc.parallelize(userData).toDF([\"name\", \"age\"])\n",
    "#(\"name\", \"age\")\n",
    "# 注册一张user表\n",
    "# userDF.registerTempTable(\"user\")\n",
    "userDF.createOrReplaceTempView(\"user\")"
   ]
  },
  {
   "cell_type": "code",
   "execution_count": 17,
   "metadata": {
    "collapsed": false
   },
   "outputs": [
    {
     "name": "stdout",
     "output_type": "stream",
     "text": [
      "<bound method DataFrame.printSchema of DataFrame[name: string, age: bigint]>\n",
      "+-----+---+\n",
      "| name|age|\n",
      "+-----+---+\n",
      "|  Leo| 16|\n",
      "|Marry| 21|\n",
      "| Jack| 14|\n",
      "|  Tom| 18|\n",
      "+-----+---+\n",
      "\n"
     ]
    }
   ],
   "source": [
    "print(userDF.printSchema)\n",
    "userDF.show()"
   ]
  },
  {
   "cell_type": "code",
   "execution_count": 20,
   "metadata": {
    "collapsed": false
   },
   "outputs": [
    {
     "data": {
      "text/plain": [
       "['name', 'age']"
      ]
     },
     "execution_count": 20,
     "metadata": {},
     "output_type": "execute_result"
    }
   ],
   "source": [
    "userDF.columns"
   ]
  },
  {
   "cell_type": "code",
   "execution_count": null,
   "metadata": {
    "collapsed": true
   },
   "outputs": [],
   "source": [
    "//注册自定义函数（通过匿名函数）\n",
    "spark.udf.register(\"strLen\", (str: String) => str.length())\n",
    "//注册自定义函数（通过实名函数）\n",
    "spark.udf.register(\"isAdult\", isAdult _)\n",
    "spark.sql(\"select *,strLen(name) as name_len,isAdult(age) as isAdult from user\").show\n"
   ]
  },
  {
   "cell_type": "code",
   "execution_count": 31,
   "metadata": {
    "collapsed": false
   },
   "outputs": [
    {
     "name": "stdout",
     "output_type": "stream",
     "text": [
      "+-----+---+--------+----------+\n",
      "| name|age|name_len|name_len_2|\n",
      "+-----+---+--------+----------+\n",
      "|  Leo| 16|       3|         3|\n",
      "|Marry| 21|       5|         5|\n",
      "| Jack| 14|       4|         4|\n",
      "|  Tom| 18|       3|         3|\n",
      "+-----+---+--------+----------+\n",
      "\n",
      "+-----+---+-------+\n",
      "| name|age|isAdult|\n",
      "+-----+---+-------+\n",
      "|  Leo| 16|  false|\n",
      "|Marry| 21|   true|\n",
      "| Jack| 14|  false|\n",
      "|  Tom| 18|   true|\n",
      "+-----+---+-------+\n",
      "\n"
     ]
    }
   ],
   "source": [
    "# 这里的udf来自于spark sql.function.udf\n",
    "# 注册自定义函数（通过匿名函数）\n",
    "strLen = udf(lambda x:len(x))\n",
    "strLen_2 = udf(lambda x:len(x), IntegerType())\n",
    "# 注册自定义函数（通过实名函数）\n",
    "def isAdult(x):\n",
    "    if x >= 18 :\n",
    "        return True\n",
    "    else:\n",
    "        return False\n",
    "    \n",
    "udf_isAdult = udf(isAdult)\n",
    "userDF.withColumn(\"name_len\", strLen(col(\"name\").cast(\"String\"))) \\\n",
    "        .withColumn(\"name_len_2\", strLen_2(col(\"name\"))).show()\n",
    "userDF.withColumn(\"isAdult\", udf_isAdult(col(\"age\").cast(\"Int\"))).show()\n"
   ]
  },
  {
   "cell_type": "code",
   "execution_count": null,
   "metadata": {
    "collapsed": true
   },
   "outputs": [],
   "source": []
  }
 ],
 "metadata": {
  "kernelspec": {
   "display_name": "Python 3",
   "language": "python",
   "name": "python3"
  },
  "language_info": {
   "codemirror_mode": {
    "name": "ipython",
    "version": 3
   },
   "file_extension": ".py",
   "mimetype": "text/x-python",
   "name": "python",
   "nbconvert_exporter": "python",
   "pygments_lexer": "ipython3",
   "version": "3.5.1"
  }
 },
 "nbformat": 4,
 "nbformat_minor": 0
}
