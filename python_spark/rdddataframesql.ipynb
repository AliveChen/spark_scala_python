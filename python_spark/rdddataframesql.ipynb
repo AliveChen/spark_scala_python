{
 "cells": [
  {
   "cell_type": "markdown",
   "metadata": {},
   "source": [
    "#RDD DataFrame "
   ]
  },
  {
   "cell_type": "code",
   "execution_count": 1,
   "metadata": {
    "collapsed": false
   },
   "outputs": [],
   "source": [
    "global Path\n",
    "if sc.master[0:5]=='local':\n",
    "    Path='file:/home/neo/pythonwork/pythonproject/data/'"
   ]
  },
  {
   "cell_type": "code",
   "execution_count": 2,
   "metadata": {
    "collapsed": false
   },
   "outputs": [
    {
     "data": {
      "text/plain": [
       "943"
      ]
     },
     "execution_count": 2,
     "metadata": {},
     "output_type": "execute_result"
    }
   ],
   "source": [
    "data=sc.textFile(Path+'u.user')\n",
    "data.count()"
   ]
  },
  {
   "cell_type": "code",
   "execution_count": 3,
   "metadata": {
    "collapsed": false
   },
   "outputs": [
    {
     "data": {
      "text/plain": [
       "list"
      ]
     },
     "execution_count": 3,
     "metadata": {},
     "output_type": "execute_result"
    }
   ],
   "source": [
    "data.take(5)\n",
    "type(data.take(5))"
   ]
  },
  {
   "cell_type": "code",
   "execution_count": 4,
   "metadata": {
    "collapsed": false
   },
   "outputs": [
    {
     "data": {
      "text/plain": [
       "[['1', '24', 'M', 'technician', '85711'],\n",
       " ['2', '53', 'F', 'other', '94043'],\n",
       " ['3', '23', 'M', 'writer', '32067'],\n",
       " ['4', '24', 'M', 'technician', '43537'],\n",
       " ['5', '33', 'F', 'other', '15213']]"
      ]
     },
     "execution_count": 4,
     "metadata": {},
     "output_type": "execute_result"
    }
   ],
   "source": [
    "datauser=data.map(lambda x:x.split('|'))\n",
    "datauser.take(5)"
   ]
  },
  {
   "cell_type": "code",
   "execution_count": 5,
   "metadata": {
    "collapsed": false
   },
   "outputs": [
    {
     "data": {
      "text/plain": [
       "pyspark.rdd.PipelinedRDD"
      ]
     },
     "execution_count": 5,
     "metadata": {},
     "output_type": "execute_result"
    }
   ],
   "source": [
    "type(datauser)"
   ]
  },
  {
   "cell_type": "code",
   "execution_count": 6,
   "metadata": {
    "collapsed": false
   },
   "outputs": [],
   "source": [
    "sqlContext=SparkSession.builder.getOrCreate()"
   ]
  },
  {
   "cell_type": "code",
   "execution_count": 7,
   "metadata": {
    "collapsed": false
   },
   "outputs": [],
   "source": [
    "from pyspark.sql import Row\n",
    "user_row=datauser.map(lambda x: Row(\n",
    "    userid=x[0],\n",
    "    age=int(x[1]),\n",
    "    gender=x[2],\n",
    "    occupation=x[3],\n",
    "    zipcode=(x[4])))"
   ]
  },
  {
   "cell_type": "code",
   "execution_count": 8,
   "metadata": {
    "collapsed": false
   },
   "outputs": [
    {
     "data": {
      "text/plain": [
       "[Row(age=24, gender='M', occupation='technician', userid='1', zipcode='85711'),\n",
       " Row(age=53, gender='F', occupation='other', userid='2', zipcode='94043'),\n",
       " Row(age=23, gender='M', occupation='writer', userid='3', zipcode='32067'),\n",
       " Row(age=24, gender='M', occupation='technician', userid='4', zipcode='43537'),\n",
       " Row(age=33, gender='F', occupation='other', userid='5', zipcode='15213')]"
      ]
     },
     "execution_count": 8,
     "metadata": {},
     "output_type": "execute_result"
    }
   ],
   "source": [
    "type(user_row)\n",
    "user_row.take(5)"
   ]
  },
  {
   "cell_type": "code",
   "execution_count": 9,
   "metadata": {
    "collapsed": true
   },
   "outputs": [],
   "source": [
    "user_df=sqlContext.createDataFrame(user_row)"
   ]
  },
  {
   "cell_type": "code",
   "execution_count": 10,
   "metadata": {
    "collapsed": false
   },
   "outputs": [
    {
     "data": {
      "text/plain": [
       "pyspark.sql.dataframe.DataFrame"
      ]
     },
     "execution_count": 10,
     "metadata": {},
     "output_type": "execute_result"
    }
   ],
   "source": [
    "type(user_df)"
   ]
  },
  {
   "cell_type": "code",
   "execution_count": 11,
   "metadata": {
    "collapsed": false
   },
   "outputs": [
    {
     "data": {
      "text/plain": [
       "['age', 'gender', 'occupation', 'userid', 'zipcode']"
      ]
     },
     "execution_count": 11,
     "metadata": {},
     "output_type": "execute_result"
    }
   ],
   "source": [
    "user_df.columns"
   ]
  },
  {
   "cell_type": "code",
   "execution_count": 12,
   "metadata": {
    "collapsed": false
   },
   "outputs": [
    {
     "data": {
      "text/plain": [
       "Row(age=24, gender='M', occupation='technician', userid='1', zipcode='85711')"
      ]
     },
     "execution_count": 12,
     "metadata": {},
     "output_type": "execute_result"
    }
   ],
   "source": [
    "#user_df.describle()\n",
    "#user_df.info()\n",
    "#user_df.shape()\n",
    "user_df.head()"
   ]
  },
  {
   "cell_type": "code",
   "execution_count": 13,
   "metadata": {
    "collapsed": false
   },
   "outputs": [
    {
     "data": {
      "text/plain": [
       "Column<b'age'>"
      ]
     },
     "execution_count": 13,
     "metadata": {},
     "output_type": "execute_result"
    }
   ],
   "source": [
    "user_df['age']"
   ]
  },
  {
   "cell_type": "code",
   "execution_count": 14,
   "metadata": {
    "collapsed": false
   },
   "outputs": [
    {
     "name": "stdout",
     "output_type": "stream",
     "text": [
      "+---+------+----------+------+-------+\n",
      "|age|gender|occupation|userid|zipcode|\n",
      "+---+------+----------+------+-------+\n",
      "| 24|     M|technician|     1|  85711|\n",
      "| 53|     F|     other|     2|  94043|\n",
      "| 23|     M|    writer|     3|  32067|\n",
      "| 24|     M|technician|     4|  43537|\n",
      "| 33|     F|     other|     5|  15213|\n",
      "+---+------+----------+------+-------+\n",
      "only showing top 5 rows\n",
      "\n"
     ]
    }
   ],
   "source": [
    "user_df.show(5)"
   ]
  },
  {
   "cell_type": "code",
   "execution_count": 15,
   "metadata": {
    "collapsed": false
   },
   "outputs": [
    {
     "data": {
      "text/plain": [
       "DataFrame[age: bigint, gender: string, occupation: string, userid: string, zipcode: string]"
      ]
     },
     "execution_count": 15,
     "metadata": {},
     "output_type": "execute_result"
    }
   ],
   "source": [
    "user_df.alias('df')"
   ]
  },
  {
   "cell_type": "code",
   "execution_count": 15,
   "metadata": {
    "collapsed": true
   },
   "outputs": [],
   "source": [
    "df=user_df"
   ]
  },
  {
   "cell_type": "code",
   "execution_count": 16,
   "metadata": {
    "collapsed": false
   },
   "outputs": [
    {
     "name": "stdout",
     "output_type": "stream",
     "text": [
      "+---+------+----------+------+-------+\n",
      "|age|gender|occupation|userid|zipcode|\n",
      "+---+------+----------+------+-------+\n",
      "| 24|     M|technician|     1|  85711|\n",
      "+---+------+----------+------+-------+\n",
      "only showing top 1 row\n",
      "\n"
     ]
    }
   ],
   "source": [
    "df.show(1)"
   ]
  },
  {
   "cell_type": "code",
   "execution_count": 17,
   "metadata": {
    "collapsed": true
   },
   "outputs": [],
   "source": [
    "user_df.registerTempTable(\"user_table\")"
   ]
  },
  {
   "cell_type": "code",
   "execution_count": 30,
   "metadata": {
    "collapsed": false
   },
   "outputs": [
    {
     "data": {
      "text/plain": [
       "pyspark.sql.types.Row"
      ]
     },
     "execution_count": 30,
     "metadata": {},
     "output_type": "execute_result"
    }
   ],
   "source": [
    "aaa=sqlContext.sql('select count(1) from user_table').collect()\n",
    "type(aaa[0])\n"
   ]
  },
  {
   "cell_type": "code",
   "execution_count": 19,
   "metadata": {
    "collapsed": false
   },
   "outputs": [
    {
     "name": "stdout",
     "output_type": "stream",
     "text": [
      "+---+------+-------------+------+-------+\n",
      "|age|gender|   occupation|userid|zipcode|\n",
      "+---+------+-------------+------+-------+\n",
      "| 24|     M|   technician|     1|  85711|\n",
      "| 53|     F|        other|     2|  94043|\n",
      "| 23|     M|       writer|     3|  32067|\n",
      "| 24|     M|   technician|     4|  43537|\n",
      "| 33|     F|        other|     5|  15213|\n",
      "| 42|     M|    executive|     6|  98101|\n",
      "| 57|     M|administrator|     7|  91344|\n",
      "| 36|     M|administrator|     8|  05201|\n",
      "| 29|     M|      student|     9|  01002|\n",
      "| 53|     M|       lawyer|    10|  90703|\n",
      "| 39|     F|        other|    11|  30329|\n",
      "| 28|     F|        other|    12|  06405|\n",
      "| 47|     M|     educator|    13|  29206|\n",
      "| 45|     M|    scientist|    14|  55106|\n",
      "| 49|     F|     educator|    15|  97301|\n",
      "| 21|     M|entertainment|    16|  10309|\n",
      "| 30|     M|   programmer|    17|  06355|\n",
      "| 35|     F|        other|    18|  37212|\n",
      "| 40|     M|    librarian|    19|  02138|\n",
      "| 42|     F|    homemaker|    20|  95660|\n",
      "+---+------+-------------+------+-------+\n",
      "only showing top 20 rows\n",
      "\n"
     ]
    }
   ],
   "source": [
    "sqlContext.sql('select * from user_table').show()"
   ]
  },
  {
   "cell_type": "markdown",
   "metadata": {},
   "source": [
    "# show some fields "
   ]
  },
  {
   "cell_type": "markdown",
   "metadata": {},
   "source": [
    "show the rdd fields"
   ]
  },
  {
   "cell_type": "code",
   "execution_count": 31,
   "metadata": {
    "collapsed": false
   },
   "outputs": [
    {
     "data": {
      "text/plain": [
       "PythonRDD[87] at RDD at PythonRDD.scala:49"
      ]
     },
     "execution_count": 31,
     "metadata": {},
     "output_type": "execute_result"
    }
   ],
   "source": [
    "datauser.map(lambda x:[x[0],x[1],x[2],x[3],x[4]])"
   ]
  },
  {
   "cell_type": "code",
   "execution_count": 32,
   "metadata": {
    "collapsed": false
   },
   "outputs": [
    {
     "data": {
      "text/plain": [
       "[['1', '24', 'M', 'technician', '85711'],\n",
       " ['2', '53', 'F', 'other', '94043'],\n",
       " ['3', '23', 'M', 'writer', '32067'],\n",
       " ['4', '24', 'M', 'technician', '43537'],\n",
       " ['5', '33', 'F', 'other', '15213']]"
      ]
     },
     "execution_count": 32,
     "metadata": {},
     "output_type": "execute_result"
    }
   ],
   "source": [
    "datauser.take(5)"
   ]
  },
  {
   "cell_type": "markdown",
   "metadata": {},
   "source": [
    "#show dataframe field"
   ]
  },
  {
   "cell_type": "code",
   "execution_count": 23,
   "metadata": {
    "collapsed": false
   },
   "outputs": [
    {
     "name": "stdout",
     "output_type": "stream",
     "text": [
      "+------+---+\n",
      "|userid|age|\n",
      "+------+---+\n",
      "|     1| 24|\n",
      "|     2| 53|\n",
      "|     3| 23|\n",
      "|     4| 24|\n",
      "|     5| 33|\n",
      "+------+---+\n",
      "only showing top 5 rows\n",
      "\n"
     ]
    }
   ],
   "source": [
    "user_df.select('userid','age').show(5)"
   ]
  },
  {
   "cell_type": "code",
   "execution_count": 24,
   "metadata": {
    "collapsed": false
   },
   "outputs": [
    {
     "name": "stdout",
     "output_type": "stream",
     "text": [
      "+------+\n",
      "|userid|\n",
      "+------+\n",
      "|     1|\n",
      "|     2|\n",
      "|     3|\n",
      "|     4|\n",
      "|     5|\n",
      "+------+\n",
      "only showing top 5 rows\n",
      "\n"
     ]
    }
   ],
   "source": [
    "df.select(df.userid).show(5)"
   ]
  },
  {
   "cell_type": "code",
   "execution_count": 33,
   "metadata": {
    "collapsed": false
   },
   "outputs": [
    {
     "name": "stdout",
     "output_type": "stream",
     "text": [
      "+------+---+\n",
      "|userid|age|\n",
      "+------+---+\n",
      "|     1| 24|\n",
      "|     2| 53|\n",
      "|     3| 23|\n",
      "|     4| 24|\n",
      "|     5| 33|\n",
      "+------+---+\n",
      "only showing top 5 rows\n",
      "\n"
     ]
    }
   ],
   "source": [
    "df[df['userid'],df['age']].show(5)"
   ]
  },
  {
   "cell_type": "code",
   "execution_count": 34,
   "metadata": {
    "collapsed": false
   },
   "outputs": [
    {
     "name": "stdout",
     "output_type": "stream",
     "text": [
      "+------+---+\n",
      "|userid|age|\n",
      "+------+---+\n",
      "|     1| 24|\n",
      "|     2| 53|\n",
      "|     3| 23|\n",
      "|     4| 24|\n",
      "|     5| 33|\n",
      "+------+---+\n",
      "only showing top 5 rows\n",
      "\n"
     ]
    }
   ],
   "source": [
    "df[['userid','age']].show(5)"
   ]
  },
  {
   "cell_type": "markdown",
   "metadata": {},
   "source": [
    "#spark sql show some fields"
   ]
  },
  {
   "cell_type": "code",
   "execution_count": 35,
   "metadata": {
    "collapsed": false
   },
   "outputs": [
    {
     "name": "stdout",
     "output_type": "stream",
     "text": [
      "+------+---+\n",
      "|userid|age|\n",
      "+------+---+\n",
      "|     1| 24|\n",
      "|     2| 53|\n",
      "|     3| 23|\n",
      "|     4| 24|\n",
      "|     5| 33|\n",
      "+------+---+\n",
      "only showing top 5 rows\n",
      "\n"
     ]
    }
   ],
   "source": [
    "sqlContext.sql('select userid,age from user_table').show(5)"
   ]
  },
  {
   "cell_type": "markdown",
   "metadata": {},
   "source": [
    "# add some fields"
   ]
  },
  {
   "cell_type": "markdown",
   "metadata": {},
   "source": [
    "#RDD"
   ]
  },
  {
   "cell_type": "code",
   "execution_count": 36,
   "metadata": {
    "collapsed": false
   },
   "outputs": [
    {
     "data": {
      "text/plain": [
       "[['1', '24', 1993],\n",
       " ['2', '53', 1964],\n",
       " ['3', '23', 1994],\n",
       " ['4', '24', 1993],\n",
       " ['5', '33', 1984]]"
      ]
     },
     "execution_count": 36,
     "metadata": {},
     "output_type": "execute_result"
    }
   ],
   "source": [
    "datauser.map(lambda x:[x[0],x[1],2017-int(x[1])]).take(5)"
   ]
  },
  {
   "cell_type": "markdown",
   "metadata": {},
   "source": [
    "#use dataframe add some fields"
   ]
  },
  {
   "cell_type": "code",
   "execution_count": 38,
   "metadata": {
    "collapsed": false
   },
   "outputs": [
    {
     "data": {
      "text/plain": [
       "[['1', '24', 'M', 'technician', '85711'],\n",
       " ['2', '53', 'F', 'other', '94043'],\n",
       " ['3', '23', 'M', 'writer', '32067'],\n",
       " ['4', '24', 'M', 'technician', '43537'],\n",
       " ['5', '33', 'F', 'other', '15213']]"
      ]
     },
     "execution_count": 38,
     "metadata": {},
     "output_type": "execute_result"
    }
   ],
   "source": [
    "datauser.take(5)"
   ]
  },
  {
   "cell_type": "code",
   "execution_count": 53,
   "metadata": {
    "collapsed": false
   },
   "outputs": [
    {
     "name": "stdout",
     "output_type": "stream",
     "text": [
      "+------+---+----+\n",
      "|userid|age|  ss|\n",
      "+------+---+----+\n",
      "|     1| 24|1993|\n",
      "|     2| 53|1964|\n",
      "|     3| 23|1994|\n",
      "|     4| 24|1993|\n",
      "|     5| 33|1984|\n",
      "+------+---+----+\n",
      "only showing top 5 rows\n",
      "\n"
     ]
    }
   ],
   "source": [
    "df.select('userid','age',(2017-df.age).alias('ss')).show(5)"
   ]
  },
  {
   "cell_type": "code",
   "execution_count": 54,
   "metadata": {
    "collapsed": false
   },
   "outputs": [
    {
     "name": "stdout",
     "output_type": "stream",
     "text": [
      "+------+---+----+\n",
      "|userid|age|  as|\n",
      "+------+---+----+\n",
      "|     1| 24|1993|\n",
      "|     2| 53|1964|\n",
      "|     3| 23|1994|\n",
      "|     4| 24|1993|\n",
      "|     5| 33|1984|\n",
      "+------+---+----+\n",
      "only showing top 5 rows\n",
      "\n"
     ]
    }
   ],
   "source": [
    "df[['userid','age',(2017-df['age']).alias('as')]].show(5)"
   ]
  },
  {
   "cell_type": "code",
   "execution_count": 63,
   "metadata": {
    "collapsed": false
   },
   "outputs": [
    {
     "name": "stdout",
     "output_type": "stream",
     "text": [
      "+------+---+----+\n",
      "|userid|age| ddd|\n",
      "+------+---+----+\n",
      "|     1| 24|1993|\n",
      "|     2| 53|1964|\n",
      "|     3| 23|1994|\n",
      "|     4| 24|1993|\n",
      "|     5| 33|1984|\n",
      "+------+---+----+\n",
      "only showing top 5 rows\n",
      "\n"
     ]
    }
   ],
   "source": [
    "from pyspark.sql.functions import col\n",
    "df[['userid','age',(2017-col('age')).alias('ddd')]].show(5)"
   ]
  },
  {
   "cell_type": "code",
   "execution_count": 29,
   "metadata": {
    "collapsed": false
   },
   "outputs": [
    {
     "name": "stdout",
     "output_type": "stream",
     "text": [
      "+------+---+-----+\n",
      "|userid|age|birth|\n",
      "+------+---+-----+\n",
      "|     1| 24| 1993|\n",
      "|     2| 53| 1964|\n",
      "|     3| 23| 1994|\n",
      "|     4| 24| 1993|\n",
      "|     5| 33| 1984|\n",
      "+------+---+-----+\n",
      "only showing top 5 rows\n",
      "\n"
     ]
    }
   ],
   "source": [
    "df.select('userid','age',(2017-df.age).alias('birth')).show(5)"
   ]
  },
  {
   "cell_type": "markdown",
   "metadata": {},
   "source": [
    "#sql add some fields"
   ]
  },
  {
   "cell_type": "code",
   "execution_count": 64,
   "metadata": {
    "collapsed": false
   },
   "outputs": [
    {
     "name": "stdout",
     "output_type": "stream",
     "text": [
      "+------+---+-----+\n",
      "|userid|age|birth|\n",
      "+------+---+-----+\n",
      "|     1| 24| 1993|\n",
      "|     2| 53| 1964|\n",
      "|     3| 23| 1994|\n",
      "|     4| 24| 1993|\n",
      "|     5| 33| 1984|\n",
      "+------+---+-----+\n",
      "only showing top 5 rows\n",
      "\n"
     ]
    }
   ],
   "source": [
    "sqlContext.sql('select userid,age,2017-age birth from user_table').show(5)"
   ]
  },
  {
   "cell_type": "markdown",
   "metadata": {},
   "source": [
    "# filter data "
   ]
  },
  {
   "cell_type": "markdown",
   "metadata": {},
   "source": [
    "#use RDD filter data"
   ]
  },
  {
   "cell_type": "code",
   "execution_count": 65,
   "metadata": {
    "collapsed": false
   },
   "outputs": [
    {
     "data": {
      "text/plain": [
       "[['17', '30', 'M', 'programmer', '06355'],\n",
       " ['42', '30', 'M', 'administrator', '17870'],\n",
       " ['77', '30', 'M', 'technician', '29379'],\n",
       " ['112', '30', 'M', 'salesman', '60613'],\n",
       " ['125', '30', 'M', 'lawyer', '22202']]"
      ]
     },
     "execution_count": 65,
     "metadata": {},
     "output_type": "execute_result"
    }
   ],
   "source": [
    "datauser.filter(lambda x:(x[1]=='30' and x[2]=='M')).take(5)"
   ]
  },
  {
   "cell_type": "markdown",
   "metadata": {},
   "source": [
    "#user dataframe data"
   ]
  },
  {
   "cell_type": "code",
   "execution_count": 66,
   "metadata": {
    "collapsed": false
   },
   "outputs": [
    {
     "name": "stdout",
     "output_type": "stream",
     "text": [
      "+------------+\n",
      "|(userid = 5)|\n",
      "+------------+\n",
      "|       false|\n",
      "|       false|\n",
      "|       false|\n",
      "|       false|\n",
      "|        true|\n",
      "+------------+\n",
      "only showing top 5 rows\n",
      "\n"
     ]
    }
   ],
   "source": [
    "df.select(df['userid']=='5',).show(5)"
   ]
  },
  {
   "cell_type": "code",
   "execution_count": 69,
   "metadata": {
    "collapsed": false
   },
   "outputs": [
    {
     "name": "stdout",
     "output_type": "stream",
     "text": [
      "+---+------+-------------+------+-------+\n",
      "|age|gender|   occupation|userid|zipcode|\n",
      "+---+------+-------------+------+-------+\n",
      "| 30|     M|   programmer|    17|  06355|\n",
      "| 30|     M|administrator|    42|  17870|\n",
      "| 30|     M|   technician|    77|  29379|\n",
      "| 30|     M|     salesman|   112|  60613|\n",
      "| 30|     M|       lawyer|   125|  22202|\n",
      "+---+------+-------------+------+-------+\n",
      "only showing top 5 rows\n",
      "\n"
     ]
    }
   ],
   "source": [
    "df.filter((df['gender']=='M')& (df['age']==30)).show(5)"
   ]
  },
  {
   "cell_type": "code",
   "execution_count": 70,
   "metadata": {
    "collapsed": false,
    "scrolled": true
   },
   "outputs": [
    {
     "name": "stdout",
     "output_type": "stream",
     "text": [
      "+---+------+-------------+------+-------+\n",
      "|age|gender|   occupation|userid|zipcode|\n",
      "+---+------+-------------+------+-------+\n",
      "| 30|     M|   programmer|    17|  06355|\n",
      "| 30|     M|administrator|    42|  17870|\n",
      "| 30|     M|   technician|    77|  29379|\n",
      "| 30|     M|     salesman|   112|  60613|\n",
      "| 30|     M|       lawyer|   125|  22202|\n",
      "+---+------+-------------+------+-------+\n",
      "only showing top 5 rows\n",
      "\n"
     ]
    }
   ],
   "source": [
    "df[(df['gender']==\"M\") & (df['age']=='30')].show(5)"
   ]
  },
  {
   "cell_type": "code",
   "execution_count": 73,
   "metadata": {
    "collapsed": false
   },
   "outputs": [
    {
     "name": "stdout",
     "output_type": "stream",
     "text": [
      "+---+------+-------------+------+-------+\n",
      "|age|gender|   occupation|userid|zipcode|\n",
      "+---+------+-------------+------+-------+\n",
      "| 24|     M|   technician|     1|  85711|\n",
      "| 23|     M|       writer|     3|  32067|\n",
      "| 24|     M|   technician|     4|  43537|\n",
      "| 42|     M|    executive|     6|  98101|\n",
      "| 57|     M|administrator|     7|  91344|\n",
      "| 36|     M|administrator|     8|  05201|\n",
      "| 29|     M|      student|     9|  01002|\n",
      "+---+------+-------------+------+-------+\n",
      "only showing top 7 rows\n",
      "\n"
     ]
    }
   ],
   "source": [
    "df[(df['gender']==\"M\") | (df['age']=='30')].show(7)"
   ]
  },
  {
   "cell_type": "code",
   "execution_count": 78,
   "metadata": {
    "collapsed": false
   },
   "outputs": [
    {
     "name": "stdout",
     "output_type": "stream",
     "text": [
      "+-------+\n",
      "|zipcode|\n",
      "+-------+\n",
      "|  06355|\n",
      "|  17870|\n",
      "|  29379|\n",
      "|  60613|\n",
      "|  22202|\n",
      "|  95938|\n",
      "|  17604|\n",
      "+-------+\n",
      "only showing top 7 rows\n",
      "\n"
     ]
    }
   ],
   "source": [
    "df['zipcode',][(df['gender']==\"M\") &\n",
    "               (df['age']=='30')].show(7)"
   ]
  },
  {
   "cell_type": "markdown",
   "metadata": {},
   "source": [
    "#use sql filter data"
   ]
  },
  {
   "cell_type": "code",
   "execution_count": 36,
   "metadata": {
    "collapsed": false
   },
   "outputs": [
    {
     "name": "stdout",
     "output_type": "stream",
     "text": [
      "+------+---+\n",
      "|userid|age|\n",
      "+------+---+\n",
      "|     6| 42|\n",
      "|     7| 57|\n",
      "|     8| 36|\n",
      "|    10| 53|\n",
      "|    13| 47|\n",
      "+------+---+\n",
      "only showing top 5 rows\n",
      "\n"
     ]
    }
   ],
   "source": [
    "sqlContext.sql('''select userid,age from user_table where age>30 \n",
    "and gender=\"M\"''').show(5)"
   ]
  },
  {
   "cell_type": "markdown",
   "metadata": {},
   "source": [
    "# sorted"
   ]
  },
  {
   "cell_type": "markdown",
   "metadata": {},
   "source": [
    "use rDD for sorted"
   ]
  },
  {
   "cell_type": "code",
   "execution_count": 37,
   "metadata": {
    "collapsed": false
   },
   "outputs": [
    {
     "data": {
      "text/plain": [
       "[['481', '73', 'M', 'retired', '37771'],\n",
       " ['767', '70', 'M', 'engineer', '00000'],\n",
       " ['803', '70', 'M', 'administrator', '78212'],\n",
       " ['860', '70', 'F', 'retired', '48322'],\n",
       " ['559', '69', 'M', 'executive', '10022']]"
      ]
     },
     "execution_count": 37,
     "metadata": {},
     "output_type": "execute_result"
    }
   ],
   "source": [
    "datauser.takeOrdered(5,key=lambda x:-1*int(x[1]))"
   ]
  },
  {
   "cell_type": "markdown",
   "metadata": {},
   "source": [
    "#use dataframe for sorted"
   ]
  },
  {
   "cell_type": "code",
   "execution_count": 38,
   "metadata": {
    "collapsed": false
   },
   "outputs": [
    {
     "name": "stdout",
     "output_type": "stream",
     "text": [
      "+---+------+\n",
      "|age|userid|\n",
      "+---+------+\n",
      "|  7|    30|\n",
      "| 10|   471|\n",
      "| 11|   289|\n",
      "| 13|   142|\n",
      "| 13|   609|\n",
      "+---+------+\n",
      "only showing top 5 rows\n",
      "\n"
     ]
    }
   ],
   "source": [
    "df[df['age'],df['userid']].orderBy('age').show(5)"
   ]
  },
  {
   "cell_type": "code",
   "execution_count": 39,
   "metadata": {
    "collapsed": false
   },
   "outputs": [
    {
     "name": "stdout",
     "output_type": "stream",
     "text": [
      "+---+------+\n",
      "|age|userid|\n",
      "+---+------+\n",
      "| 73|   481|\n",
      "| 70|   767|\n",
      "| 70|   860|\n",
      "| 70|   803|\n",
      "| 69|   559|\n",
      "+---+------+\n",
      "only showing top 5 rows\n",
      "\n"
     ]
    }
   ],
   "source": [
    "df[df['age'],df['userid']].orderBy('age',ascending=False).show(5)"
   ]
  },
  {
   "cell_type": "markdown",
   "metadata": {},
   "source": [
    "RDD:sort by multiple fields"
   ]
  },
  {
   "cell_type": "code",
   "execution_count": 40,
   "metadata": {
    "collapsed": false
   },
   "outputs": [
    {
     "data": {
      "text/plain": [
       "[['1', '24', 'M', 'technician', '85711'],\n",
       " ['10', '53', 'M', 'lawyer', '90703'],\n",
       " ['100', '36', 'M', 'executive', '90254'],\n",
       " ['101', '15', 'M', 'student', '05146'],\n",
       " ['102', '38', 'M', 'programmer', '30220']]"
      ]
     },
     "execution_count": 40,
     "metadata": {},
     "output_type": "execute_result"
    }
   ],
   "source": [
    "datauser.takeOrdered(5,lambda x:(x[0],x[1]))"
   ]
  },
  {
   "cell_type": "markdown",
   "metadata": {},
   "source": [
    "dataframe: sort by multiple fields"
   ]
  },
  {
   "cell_type": "code",
   "execution_count": 41,
   "metadata": {
    "collapsed": false
   },
   "outputs": [
    {
     "name": "stdout",
     "output_type": "stream",
     "text": [
      "+---+------+----------+------+-------+\n",
      "|age|gender|occupation|userid|zipcode|\n",
      "+---+------+----------+------+-------+\n",
      "|  7|     M|   student|    30|  55436|\n",
      "| 10|     M|   student|   471|  77459|\n",
      "| 11|     M|      none|   289|  94619|\n",
      "| 13|     M|     other|   142|  48118|\n",
      "| 13|     M|      none|   628|  94306|\n",
      "+---+------+----------+------+-------+\n",
      "only showing top 5 rows\n",
      "\n"
     ]
    }
   ],
   "source": [
    "df.orderBy([df['age'],df['gender']],ascending=[True,False]).show(5)"
   ]
  },
  {
   "cell_type": "markdown",
   "metadata": {},
   "source": [
    "#display data that is duplicated"
   ]
  },
  {
   "cell_type": "code",
   "execution_count": 42,
   "metadata": {
    "collapsed": false
   },
   "outputs": [
    {
     "data": {
      "text/plain": [
       "['M', 'F']"
      ]
     },
     "execution_count": 42,
     "metadata": {},
     "output_type": "execute_result"
    }
   ],
   "source": [
    "datauser.map(lambda x:x[2]).distinct().take(5)"
   ]
  },
  {
   "cell_type": "markdown",
   "metadata": {},
   "source": [
    "# group statistics"
   ]
  },
  {
   "cell_type": "markdown",
   "metadata": {},
   "source": [
    "rdd group statistics"
   ]
  },
  {
   "cell_type": "code",
   "execution_count": 43,
   "metadata": {
    "collapsed": false
   },
   "outputs": [
    {
     "data": {
      "text/plain": [
       "[(('M', 'educator'), 69),\n",
       " (('F', 'educator'), 26),\n",
       " (('F', 'student'), 60),\n",
       " (('M', 'technician'), 26),\n",
       " (('F', 'engineer'), 2)]"
      ]
     },
     "execution_count": 43,
     "metadata": {},
     "output_type": "execute_result"
    }
   ],
   "source": [
    "datauser.map(lambda x:((x[2],x[3]),1)).reduceByKey(lambda x,y:x+y).take(5)"
   ]
  },
  {
   "cell_type": "markdown",
   "metadata": {},
   "source": [
    "# join"
   ]
  },
  {
   "cell_type": "code",
   "execution_count": 86,
   "metadata": {
    "collapsed": false
   },
   "outputs": [
    {
     "data": {
      "text/plain": [
       "['\"00705\",\"STANDARD\",\"AIBONITO\",\"PR\",\"PRIMARY\",18.14,-66.26,\"NA-US-PR-AIBONITO\",\"false\",,,',\n",
       " '\"00610\",\"STANDARD\",\"ANASCO\",\"PR\",\"PRIMARY\",18.28,-67.14,\"NA-US-PR-ANASCO\",\"false\",,,',\n",
       " '\"00611\",\"PO BOX\",\"ANGELES\",\"PR\",\"PRIMARY\",18.28,-66.79,\"NA-US-PR-ANGELES\",\"false\",,,',\n",
       " '\"00612\",\"STANDARD\",\"ARECIBO\",\"PR\",\"PRIMARY\",18.45,-66.73,\"NA-US-PR-ARECIBO\",\"false\",,,',\n",
       " '\"00601\",\"STANDARD\",\"ADJUNTAS\",\"PR\",\"PRIMARY\",18.16,-66.72,\"NA-US-PR-ADJUNTAS\",\"false\",,,']"
      ]
     },
     "execution_count": 86,
     "metadata": {},
     "output_type": "execute_result"
    }
   ],
   "source": [
    "rawdatawithheader=sc.textFile('file:/home/neo/pythonwork/pythonproject/data/free-zipcode-database-Primary.csv')\n",
    "header=rawdatawithheader.first()\n",
    "rawdata=rawdatawithheader.filter(lambda x:x!=header)\n",
    "rawdata.take(5)"
   ]
  },
  {
   "cell_type": "code",
   "execution_count": 87,
   "metadata": {
    "collapsed": false
   },
   "outputs": [
    {
     "data": {
      "text/plain": [
       "['00705,STANDARD,AIBONITO,PR,PRIMARY,18.14,-66.26,NA-US-PR-AIBONITO,false,,,',\n",
       " '00610,STANDARD,ANASCO,PR,PRIMARY,18.28,-67.14,NA-US-PR-ANASCO,false,,,',\n",
       " '00611,PO BOX,ANGELES,PR,PRIMARY,18.28,-66.79,NA-US-PR-ANGELES,false,,,',\n",
       " '00612,STANDARD,ARECIBO,PR,PRIMARY,18.45,-66.73,NA-US-PR-ARECIBO,false,,,',\n",
       " '00601,STANDARD,ADJUNTAS,PR,PRIMARY,18.16,-66.72,NA-US-PR-ADJUNTAS,false,,,']"
      ]
     },
     "execution_count": 87,
     "metadata": {},
     "output_type": "execute_result"
    }
   ],
   "source": [
    "rawdata=rawdata.map(lambda x:x.replace('\"',''))\n",
    "rawdata.take(5)"
   ]
  },
  {
   "cell_type": "code",
   "execution_count": 88,
   "metadata": {
    "collapsed": false
   },
   "outputs": [
    {
     "data": {
      "text/plain": [
       "[['00705',\n",
       "  'STANDARD',\n",
       "  'AIBONITO',\n",
       "  'PR',\n",
       "  'PRIMARY',\n",
       "  '18.14',\n",
       "  '-66.26',\n",
       "  'NA-US-PR-AIBONITO',\n",
       "  'false',\n",
       "  '',\n",
       "  '',\n",
       "  ''],\n",
       " ['00610',\n",
       "  'STANDARD',\n",
       "  'ANASCO',\n",
       "  'PR',\n",
       "  'PRIMARY',\n",
       "  '18.28',\n",
       "  '-67.14',\n",
       "  'NA-US-PR-ANASCO',\n",
       "  'false',\n",
       "  '',\n",
       "  '',\n",
       "  '']]"
      ]
     },
     "execution_count": 88,
     "metadata": {},
     "output_type": "execute_result"
    }
   ],
   "source": [
    "zipdata=rawdata.map(lambda x:x.split(','))\n",
    "zipdata.take(2)"
   ]
  },
  {
   "cell_type": "code",
   "execution_count": 89,
   "metadata": {
    "collapsed": false
   },
   "outputs": [
    {
     "data": {
      "text/plain": [
       "[Row(city='AIBONITO', state='PR', zipcode='00705', zipcodetype='STANDARD'),\n",
       " Row(city='ANASCO', state='PR', zipcode='00610', zipcodetype='STANDARD'),\n",
       " Row(city='ANGELES', state='PR', zipcode='00611', zipcodetype='PO BOX'),\n",
       " Row(city='ARECIBO', state='PR', zipcode='00612', zipcodetype='STANDARD'),\n",
       " Row(city='ADJUNTAS', state='PR', zipcode='00601', zipcodetype='STANDARD')]"
      ]
     },
     "execution_count": 89,
     "metadata": {},
     "output_type": "execute_result"
    }
   ],
   "source": [
    "from pyspark.sql import Row\n",
    "zipdata=zipdata.map(lambda x:Row(zipcode=x[0],zipcodetype=x[1],city=x[2],state=x[3]))\n",
    "zipdata.take(5)"
   ]
  },
  {
   "cell_type": "code",
   "execution_count": 91,
   "metadata": {
    "collapsed": false
   },
   "outputs": [
    {
     "ename": "NameError",
     "evalue": "name 'zipdata_1' is not defined",
     "output_type": "error",
     "traceback": [
      "\u001b[1;31m---------------------------------------------------------------------------\u001b[0m",
      "\u001b[1;31mNameError\u001b[0m                                 Traceback (most recent call last)",
      "\u001b[1;32m<ipython-input-91-1c46259459bb>\u001b[0m in \u001b[0;36m<module>\u001b[1;34m()\u001b[0m\n\u001b[1;32m----> 1\u001b[1;33m \u001b[0mtype\u001b[0m\u001b[1;33m(\u001b[0m\u001b[0mzipdata_1\u001b[0m\u001b[1;33m)\u001b[0m\u001b[1;33m\u001b[0m\u001b[0m\n\u001b[0m",
      "\u001b[1;31mNameError\u001b[0m: name 'zipdata_1' is not defined"
     ]
    }
   ],
   "source": [
    "type(zipdata_1)"
   ]
  },
  {
   "cell_type": "code",
   "execution_count": 92,
   "metadata": {
    "collapsed": false
   },
   "outputs": [
    {
     "data": {
      "text/plain": [
       "['city', 'state', 'zipcode', 'zipcodetype']"
      ]
     },
     "execution_count": 92,
     "metadata": {},
     "output_type": "execute_result"
    }
   ],
   "source": [
    "zipdata_df=sqlContext.createDataFrame(zipdata)\n",
    "zipdata_df.columns"
   ]
  },
  {
   "cell_type": "code",
   "execution_count": 93,
   "metadata": {
    "collapsed": false
   },
   "outputs": [],
   "source": [
    "zipdata_df.registerTempTable('zipdata_table')"
   ]
  },
  {
   "cell_type": "code",
   "execution_count": 94,
   "metadata": {
    "collapsed": false
   },
   "outputs": [
    {
     "data": {
      "text/plain": [
       "Row(age=24, gender='M', occupation='technician', userid='1', zipcode='85711')"
      ]
     },
     "execution_count": 94,
     "metadata": {},
     "output_type": "execute_result"
    }
   ],
   "source": [
    "df.first()"
   ]
  },
  {
   "cell_type": "code",
   "execution_count": 95,
   "metadata": {
    "collapsed": false
   },
   "outputs": [
    {
     "data": {
      "text/plain": [
       "Row(city='AIBONITO', state='PR', zipcode='00705', zipcodetype='STANDARD')"
      ]
     },
     "execution_count": 95,
     "metadata": {},
     "output_type": "execute_result"
    }
   ],
   "source": [
    "zipdata_df.first()"
   ]
  },
  {
   "cell_type": "code",
   "execution_count": 96,
   "metadata": {
    "collapsed": false
   },
   "outputs": [
    {
     "data": {
      "text/plain": [
       "['age',\n",
       " 'gender',\n",
       " 'occupation',\n",
       " 'userid',\n",
       " 'zipcode',\n",
       " 'city',\n",
       " 'state',\n",
       " 'zipcode',\n",
       " 'zipcodetype']"
      ]
     },
     "execution_count": 96,
     "metadata": {},
     "output_type": "execute_result"
    }
   ],
   "source": [
    "join_df=df.join(zipdata_df,zipdata_df['zipcode']==df['zipcode'],'left_outer')\n",
    "join_df.columns"
   ]
  },
  {
   "cell_type": "code",
   "execution_count": 97,
   "metadata": {
    "collapsed": false
   },
   "outputs": [
    {
     "name": "stdout",
     "output_type": "stream",
     "text": [
      "+---+------+----------+------+-------+-------------+-----+-------+-----------+\n",
      "|age|gender|occupation|userid|zipcode|         city|state|zipcode|zipcodetype|\n",
      "+---+------+----------+------+-------+-------------+-----+-------+-----------+\n",
      "| 53|     F|     other|     2|  94043|MOUNTAIN VIEW|   CA|  94043|   STANDARD|\n",
      "+---+------+----------+------+-------+-------------+-----+-------+-----------+\n",
      "only showing top 1 row\n",
      "\n"
     ]
    }
   ],
   "source": [
    "join_df.show(1)\n"
   ]
  },
  {
   "cell_type": "code",
   "execution_count": 98,
   "metadata": {
    "collapsed": false
   },
   "outputs": [
    {
     "name": "stdout",
     "output_type": "stream",
     "text": [
      "+---+------+-------------+------+-------+-------------+-----+-------+-----------+\n",
      "|age|gender|   occupation|userid|zipcode|         city|state|zipcode|zipcodetype|\n",
      "+---+------+-------------+------+-------+-------------+-----+-------+-----------+\n",
      "| 21|     M|entertainment|    16|  10309|STATEN ISLAND|   NY|  10309|   STANDARD|\n",
      "| 25|     M|    executive|   862|  13820|      ONEONTA|   NY|  13820|   STANDARD|\n",
      "+---+------+-------------+------+-------+-------------+-----+-------+-----------+\n",
      "only showing top 2 rows\n",
      "\n"
     ]
    }
   ],
   "source": [
    "join_df[join_df['state']=='NY'].show(2)"
   ]
  },
  {
   "cell_type": "code",
   "execution_count": 99,
   "metadata": {
    "collapsed": false
   },
   "outputs": [],
   "source": [
    "groupbystate=join_df.groupBy(join_df['state']).count().orderBy('count')"
   ]
  },
  {
   "cell_type": "code",
   "execution_count": 100,
   "metadata": {
    "collapsed": false
   },
   "outputs": [
    {
     "data": {
      "text/plain": [
       "pyspark.sql.dataframe.DataFrame"
      ]
     },
     "execution_count": 100,
     "metadata": {},
     "output_type": "execute_result"
    }
   ],
   "source": [
    "type(groupbystate)"
   ]
  },
  {
   "cell_type": "code",
   "execution_count": 105,
   "metadata": {
    "collapsed": false
   },
   "outputs": [
    {
     "data": {
      "text/html": [
       "<div>\n",
       "<table border=\"1\" class=\"dataframe\">\n",
       "  <thead>\n",
       "    <tr style=\"text-align: right;\">\n",
       "      <th></th>\n",
       "      <th>count</th>\n",
       "    </tr>\n",
       "    <tr>\n",
       "      <th>state</th>\n",
       "      <th></th>\n",
       "    </tr>\n",
       "  </thead>\n",
       "  <tbody>\n",
       "    <tr>\n",
       "      <th>WY</th>\n",
       "      <td>1</td>\n",
       "    </tr>\n",
       "    <tr>\n",
       "      <th>AE</th>\n",
       "      <td>1</td>\n",
       "    </tr>\n",
       "    <tr>\n",
       "      <th>SD</th>\n",
       "      <td>1</td>\n",
       "    </tr>\n",
       "    <tr>\n",
       "      <th>AR</th>\n",
       "      <td>1</td>\n",
       "    </tr>\n",
       "    <tr>\n",
       "      <th>AP</th>\n",
       "      <td>1</td>\n",
       "    </tr>\n",
       "  </tbody>\n",
       "</table>\n",
       "</div>"
      ],
      "text/plain": [
       "       count\n",
       "state       \n",
       "WY         1\n",
       "AE         1\n",
       "SD         1\n",
       "AR         1\n",
       "AP         1"
      ]
     },
     "execution_count": 105,
     "metadata": {},
     "output_type": "execute_result"
    }
   ],
   "source": [
    "aaa=groupbystate.toPandas().set_index('state')\n",
    "aaa[0:5]"
   ]
  },
  {
   "cell_type": "code",
   "execution_count": 106,
   "metadata": {
    "collapsed": false,
    "scrolled": true
   },
   "outputs": [
    {
     "data": {
      "image/png": "[encoded data removed]",
      "text/plain": [
       "<matplotlib.figure.Figure at 0x7f284ab9c4e0>"
      ]
     },
     "metadata": {},
     "output_type": "display_data"
    }
   ],
   "source": [
    "import matplotlib.pyplot as plt\n",
    "%matplotlib inline\n",
    "aaa.plot(kind='bar',title='state',figsize=(12,6),legend=True,fontsize=12)\n",
    "plt.show()"
   ]
  },
  {
   "cell_type": "code",
   "execution_count": 101,
   "metadata": {
    "collapsed": true
   },
   "outputs": [],
   "source": [
    "job_statistics=join_df.groupBy('occupation').count().orderBy('count',ascending=0)"
   ]
  },
  {
   "cell_type": "code",
   "execution_count": 103,
   "metadata": {
    "collapsed": false
   },
   "outputs": [],
   "source": [
    "bbb=job_statistics.toPandas().set_index('occupation')"
   ]
  },
  {
   "cell_type": "code",
   "execution_count": 114,
   "metadata": {
    "collapsed": false
   },
   "outputs": [
    {
     "data": {
      "image/png": "[encoded data removed]",
      "text/plain": [
       "<matplotlib.figure.Figure at 0x7f6a07286e10>"
      ]
     },
     "metadata": {},
     "output_type": "display_data"
    }
   ],
   "source": [
    "ax =bbb['count'].plot(kind='pie',\n",
    "           title =\"occupation\",figsize=(12,12),startangle=90,autopct='%1.1f%%')\n",
    "ax.legend(bbox_to_anchor=(1.05, 1), loc=2, borderaxespad=0.)\n",
    "plt.show()"
   ]
  },
  {
   "cell_type": "code",
   "execution_count": 129,
   "metadata": {
    "collapsed": false
   },
   "outputs": [
    {
     "data": {
      "image/png": "[encoded data removed]",
      "text/plain": [
       "<matplotlib.figure.Figure at 0x7f69f95ae208>"
      ]
     },
     "metadata": {},
     "output_type": "display_data"
    }
   ],
   "source": [
    "import matplotlib.pyplot as plt\n",
    "%matplotlib inline\n",
    "import seaborn as sns\n",
    "fig=plt.figure()\n",
    "fig.set_size_inches(12,6)\n",
    "sns.barplot(x=aaa.index,y=aaa['count'])\n",
    "plt.show()"
   ]
  },
  {
   "cell_type": "code",
   "execution_count": 126,
   "metadata": {
    "collapsed": false
   },
   "outputs": [
    {
     "data": {
      "text/html": [
       "<script>\n",
       "    require.config({\n",
       "        paths: {\n",
       "            'echarts': '/nbextensions/echarts/echarts.min'\n",
       "        }\n",
       "    });\n",
       "</script>\n",
       "    <div id=\"2b9a72fd9a5a45daaca904a3c3c582b0\" style=\"width:800px;height:400px;\"></div>\n",
       "\n",
       "\n",
       "<script>\n",
       "    require(['echarts'], function(echarts) {\n",
       "        \n",
       "var myChart_2b9a72fd9a5a45daaca904a3c3c582b0 = echarts.init(document.getElementById('2b9a72fd9a5a45daaca904a3c3c582b0'), 'light', {renderer: 'canvas'});\n",
       "\n",
       "var option_2b9a72fd9a5a45daaca904a3c3c582b0 = {\n",
       "    \"toolbox\": {\n",
       "        \"orient\": \"vertical\",\n",
       "        \"show\": true,\n",
       "        \"left\": \"95%\",\n",
       "        \"feature\": {\n",
       "            \"restore\": {\n",
       "                \"show\": true,\n",
       "                \"title\": \"restore\"\n",
       "            },\n",
       "            \"saveAsImage\": {\n",
       "                \"show\": true,\n",
       "                \"title\": \"save as image\"\n",
       "            },\n",
       "            \"dataView\": {\n",
       "                \"show\": true,\n",
       "                \"title\": \"data view\"\n",
       "            }\n",
       "        },\n",
       "        \"top\": \"center\"\n",
       "    },\n",
       "    \"animation\": true,\n",
       "    \"series\": [\n",
       "        {\n",
       "            \"data\": [\n",
       "                3.0,\n",
       "                3.0,\n",
       "                3.0,\n",
       "                3.0,\n",
       "                3.0,\n",
       "                3.0,\n",
       "                4.0,\n",
       "                5.0,\n",
       "                5.0,\n",
       "                6.0\n",
       "            ],\n",
       "            \"barCategoryGap\": \"20%\",\n",
       "            \"label\": {\n",
       "                \"emphasis\": {\n",
       "                    \"textStyle\": {\n",
       "                        \"fontSize\": 12\n",
       "                    },\n",
       "                    \"show\": true\n",
       "                },\n",
       "                \"normal\": {\n",
       "                    \"textStyle\": {\n",
       "                        \"fontSize\": 12\n",
       "                    },\n",
       "                    \"show\": false,\n",
       "                    \"position\": \"top\"\n",
       "                }\n",
       "            },\n",
       "            \"name\": \"aaa\",\n",
       "            \"type\": \"bar\",\n",
       "            \"markLine\": {\n",
       "                \"symbolSize\": 10,\n",
       "                \"data\": [\n",
       "                    {\n",
       "                        \"type\": \"average\",\n",
       "                        \"name\": \"mean-Value\"\n",
       "                    }\n",
       "                ]\n",
       "            },\n",
       "            \"markPoint\": {\n",
       "                \"data\": [\n",
       "                    {\n",
       "                        \"symbol\": \"pin\",\n",
       "                        \"type\": \"min\",\n",
       "                        \"symbolSize\": 50,\n",
       "                        \"name\": \"Minimum\",\n",
       "                        \"label\": {\n",
       "                            \"normal\": {\n",
       "                                \"textStyle\": {\n",
       "                                    \"color\": \"#fff\"\n",
       "                                }\n",
       "                            }\n",
       "                        }\n",
       "                    }\n",
       "                ]\n",
       "            },\n",
       "            \"seriesId\": 7324624\n",
       "        },\n",
       "        {\n",
       "            \"data\": [\n",
       "                5.0,\n",
       "                5.0,\n",
       "                5.0,\n",
       "                5.0,\n",
       "                5.0,\n",
       "                5.0,\n",
       "                6.0,\n",
       "                7.0,\n",
       "                7.0,\n",
       "                8.0\n",
       "            ],\n",
       "            \"barCategoryGap\": \"20%\",\n",
       "            \"label\": {\n",
       "                \"emphasis\": {\n",
       "                    \"textStyle\": {\n",
       "                        \"fontSize\": 12\n",
       "                    },\n",
       "                    \"show\": true\n",
       "                },\n",
       "                \"normal\": {\n",
       "                    \"textStyle\": {\n",
       "                        \"fontSize\": 12\n",
       "                    },\n",
       "                    \"show\": false,\n",
       "                    \"position\": \"top\"\n",
       "                }\n",
       "            },\n",
       "            \"name\": \"bbb\",\n",
       "            \"type\": \"bar\",\n",
       "            \"markLine\": {\n",
       "                \"data\": []\n",
       "            },\n",
       "            \"markPoint\": {\n",
       "                \"data\": [\n",
       "                    {\n",
       "                        \"symbol\": \"pin\",\n",
       "                        \"type\": \"max\",\n",
       "                        \"symbolSize\": 50,\n",
       "                        \"name\": \"Maximum\",\n",
       "                        \"label\": {\n",
       "                            \"normal\": {\n",
       "                                \"textStyle\": {\n",
       "                                    \"color\": \"#fff\"\n",
       "                                }\n",
       "                            }\n",
       "                        }\n",
       "                    }\n",
       "                ]\n",
       "            },\n",
       "            \"seriesId\": 7324624\n",
       "        }\n",
       "    ],\n",
       "    \"legend\": [\n",
       "        {\n",
       "            \"left\": \"center\",\n",
       "            \"data\": [\n",
       "                \"aaa\",\n",
       "                \"bbb\"\n",
       "            ],\n",
       "            \"show\": true,\n",
       "            \"top\": \"top\",\n",
       "            \"orient\": \"horizontal\",\n",
       "            \"textStyle\": {\n",
       "                \"fontSize\": 12\n",
       "            },\n",
       "            \"selectedMode\": \"multiple\"\n",
       "        }\n",
       "    ],\n",
       "    \"color\": [\n",
       "        \"#c23531\",\n",
       "        \"#2f4554\",\n",
       "        \"#61a0a8\",\n",
       "        \"#d48265\",\n",
       "        \"#749f83\",\n",
       "        \"#ca8622\",\n",
       "        \"#bda29a\",\n",
       "        \"#6e7074\",\n",
       "        \"#546570\",\n",
       "        \"#c4ccd3\",\n",
       "        \"#f05b72\",\n",
       "        \"#ef5b9c\",\n",
       "        \"#f47920\",\n",
       "        \"#905a3d\",\n",
       "        \"#fab27b\",\n",
       "        \"#2a5caa\",\n",
       "        \"#444693\",\n",
       "        \"#726930\",\n",
       "        \"#b2d235\",\n",
       "        \"#6d8346\",\n",
       "        \"#ac6767\",\n",
       "        \"#1d953f\",\n",
       "        \"#6950a1\",\n",
       "        \"#918597\",\n",
       "        \"#f6f5ec\"\n",
       "    ],\n",
       "    \"tooltip\": {\n",
       "        \"trigger\": \"item\",\n",
       "        \"backgroundColor\": \"rgba(50,50,50,0.7)\",\n",
       "        \"triggerOn\": \"mousemove|click\",\n",
       "        \"axisPointer\": {\n",
       "            \"type\": \"line\"\n",
       "        },\n",
       "        \"textStyle\": {\n",
       "            \"fontSize\": 14\n",
       "        },\n",
       "        \"borderWidth\": 0,\n",
       "        \"borderColor\": \"#333\"\n",
       "    },\n",
       "    \"title\": [\n",
       "        {\n",
       "            \"left\": \"auto\",\n",
       "            \"subtextStyle\": {\n",
       "                \"fontSize\": 12\n",
       "            },\n",
       "            \"top\": \"auto\",\n",
       "            \"textStyle\": {\n",
       "                \"fontSize\": 18\n",
       "            },\n",
       "            \"text\": \"\\u6211\\u7684\\u7b2c\\u4e00\\u4e2a\\u56fe\\u8868\",\n",
       "            \"subtext\": \"\\u8fd9\\u91cc\\u662f\\u526f\\u6807\\u9898\"\n",
       "        }\n",
       "    ],\n",
       "    \"xAxis\": [\n",
       "        {\n",
       "            \"nameGap\": 25,\n",
       "            \"splitLine\": {\n",
       "                \"show\": false\n",
       "            },\n",
       "            \"axisLabel\": {\n",
       "                \"textStyle\": {\n",
       "                    \"fontSize\": 12\n",
       "                },\n",
       "                \"rotate\": 0,\n",
       "                \"interval\": \"auto\",\n",
       "                \"margin\": 8\n",
       "            },\n",
       "            \"boundaryGap\": true,\n",
       "            \"axisLine\": {\n",
       "                \"lineStyle\": {\n",
       "                    \"width\": 1\n",
       "                }\n",
       "            },\n",
       "            \"show\": true,\n",
       "            \"data\": [\n",
       "                \"RI\",\n",
       "                \"NV\",\n",
       "                \"DE\",\n",
       "                \"MS\",\n",
       "                \"AL\",\n",
       "                \"WV\",\n",
       "                \"KS\",\n",
       "                \"VT\",\n",
       "                \"AK\",\n",
       "                \"LA\"\n",
       "            ],\n",
       "            \"nameTextStyle\": {\n",
       "                \"fontSize\": 14\n",
       "            },\n",
       "            \"nameLocation\": \"middle\",\n",
       "            \"axisTick\": {\n",
       "                \"alignWithLabel\": false\n",
       "            },\n",
       "            \"inverse\": false,\n",
       "            \"type\": \"category\"\n",
       "        }\n",
       "    ],\n",
       "    \"series_id\": 7324624,\n",
       "    \"yAxis\": [\n",
       "        {\n",
       "            \"axisLine\": {\n",
       "                \"lineStyle\": {\n",
       "                    \"width\": 1\n",
       "                }\n",
       "            },\n",
       "            \"show\": true,\n",
       "            \"nameGap\": 25,\n",
       "            \"boundaryGap\": true,\n",
       "            \"nameTextStyle\": {\n",
       "                \"fontSize\": 14\n",
       "            },\n",
       "            \"axisLabel\": {\n",
       "                \"textStyle\": {\n",
       "                    \"fontSize\": 12\n",
       "                },\n",
       "                \"rotate\": 0,\n",
       "                \"formatter\": \"{value} \",\n",
       "                \"interval\": \"auto\",\n",
       "                \"margin\": 8\n",
       "            },\n",
       "            \"splitLine\": {\n",
       "                \"show\": true\n",
       "            },\n",
       "            \"axisTick\": {\n",
       "                \"alignWithLabel\": false\n",
       "            },\n",
       "            \"type\": \"value\",\n",
       "            \"nameLocation\": \"middle\",\n",
       "            \"inverse\": false\n",
       "        }\n",
       "    ]\n",
       "};\n",
       "myChart_2b9a72fd9a5a45daaca904a3c3c582b0.setOption(option_2b9a72fd9a5a45daaca904a3c3c582b0);\n",
       "\n",
       "    });\n",
       "</script>\n"
      ],
      "text/plain": [
       "<pyecharts.charts.bar.Bar at 0x7f2843a95e10>"
      ]
     },
     "execution_count": 126,
     "metadata": {},
     "output_type": "execute_result"
    }
   ],
   "source": [
    "from pyecharts import Bar\n",
    "import random\n",
    "\n",
    "bar = Bar(\"我的第一个图表\", \"这里是副标题\")\n",
    "bar.add('aaa', aaa.index[10:20], aaa['count'][10:20], mark_point=[\"min\"],mark_line=[\"average\"])\n",
    "bar.add(\"bbb\", aaa.index[10:20], aaa['count'][10:20]+random.randint(1,6) ,mark_point=[\"max\"])\n",
    "\n",
    "#bar.show_config()\n",
    "#bar.render()"
   ]
  },
  {
   "cell_type": "code",
   "execution_count": null,
   "metadata": {
    "collapsed": true
   },
   "outputs": [],
   "source": []
  }
 ],
 "metadata": {
  "kernelspec": {
   "display_name": "Python 3",
   "language": "python",
   "name": "python3"
  },
  "language_info": {
   "codemirror_mode": {
    "name": "ipython",
    "version": 3
   },
   "file_extension": ".py",
   "mimetype": "text/x-python",
   "name": "python",
   "nbconvert_exporter": "python",
   "pygments_lexer": "ipython3",
   "version": "3.5.1"
  }
 },
 "nbformat": 4,
 "nbformat_minor": 0
}
