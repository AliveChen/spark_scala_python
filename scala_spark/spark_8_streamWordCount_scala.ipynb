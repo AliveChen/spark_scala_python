{
 "cells": [
  {
   "cell_type": "code",
   "execution_count": 1,
   "metadata": {
    "collapsed": false
   },
   "outputs": [
    {
     "data": {
      "text/plain": [
       "defined object spark_8_streamingWordCount_scala\n"
      ]
     },
     "metadata": {},
     "output_type": "display_data"
    }
   ],
   "source": [
    "import org.apache.spark.SparkConf\n",
    "import org.apache.spark.streaming.StreamingContext\n",
    "import org.apache.spark.streaming.Seconds\n",
    "\n",
    "object spark_8_streamingWordCount_scala {\n",
    "  def main(args:Array[String]){\n",
    "    \n",
    "    // 运行SparkStreaming时，local[2]模式里线程数必须最少为2，\n",
    "    // 官网中有提到，因为一个线程用来接收数据，一个线程用来处理数据。\n",
    "    val conf = new SparkConf()\n",
    "      .setMaster(\"local[2]\")\n",
    "      .setAppName(\"streamingWordCount\")\n",
    "    val  ssc = new StreamingContext(conf, Seconds(1))\n",
    "    \n",
    "    val lines = ssc.socketTextStream(\"localhost\", 9999)\n",
    "    val words = lines.flatMap(_.split(\" \"))\n",
    "    val pairs = words.map( word => (word,1))\n",
    "    val wordCount = pairs.reduceByKey(_ + _)\n",
    "    \n",
    "    //Thread.sleep(1000)\n",
    "    wordCount.print()\n",
    "    \n",
    "    ssc.start()\n",
    "    ssc.awaitTermination()\n",
    "    \n",
    "    \n",
    "  }\n",
    "   \n",
    "}"
   ]
  },
  {
   "cell_type": "code",
   "execution_count": 2,
   "metadata": {
    "collapsed": false
   },
   "outputs": [
    {
     "data": {
      "text/plain": [
       "spark_8_streamingWordCount_scala$@6d23815a"
      ]
     },
     "execution_count": 2,
     "metadata": {},
     "output_type": "execute_result"
    }
   ],
   "source": [
    "spark_8_streamingWordCount_scala"
   ]
  },
  {
   "cell_type": "code",
   "execution_count": null,
   "metadata": {
    "collapsed": true
   },
   "outputs": [],
   "source": []
  }
 ],
 "metadata": {
  "kernelspec": {
   "display_name": "Spark2.1.3 - Scala",
   "language": "scala",
   "name": "spark2.1.3_scala"
  },
  "language_info": {
   "codemirror_mode": "text/x-scala",
   "file_extension": ".scala",
   "mimetype": "text/x-scala",
   "name": "scala",
   "pygments_lexer": "scala",
   "version": "2.11.12"
  }
 },
 "nbformat": 4,
 "nbformat_minor": 0
}
