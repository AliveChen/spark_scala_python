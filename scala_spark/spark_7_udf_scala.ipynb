{
 "cells": [
  {
   "cell_type": "code",
   "execution_count": 6,
   "metadata": {
    "collapsed": true
   },
   "outputs": [],
   "source": [
    "import org.apache.spark.sql.functions.col\n",
    "import org.apache.spark.sql.functions.udf"
   ]
  },
  {
   "cell_type": "markdown",
   "metadata": {},
   "source": [
    "# sql.function.udf注册的自定义udf 不能在sql里面用，sql和dataframe注册的udf互不通用"
   ]
  },
  {
   "cell_type": "code",
   "execution_count": 13,
   "metadata": {
    "collapsed": false
   },
   "outputs": [
    {
     "data": {
      "text/plain": [
       "isAdult: (age: Int)Boolean\n"
      ]
     },
     "metadata": {},
     "output_type": "display_data"
    }
   ],
   "source": [
    "def isAdult(age: Int) = {\n",
    "    if (age < 18) {\n",
    "      false\n",
    "    } \n",
    "    else {\n",
    "      true\n",
    "    }\n",
    "}"
   ]
  },
  {
   "cell_type": "code",
   "execution_count": 2,
   "metadata": {
    "collapsed": false
   },
   "outputs": [
    {
     "data": {
      "text/plain": [
       "userData = Array((Leo,16), (Marry,21), (Jack,14), (Tom,18))\n",
       "userDF = [name: string, age: int]\n"
      ]
     },
     "metadata": {},
     "output_type": "display_data"
    },
    {
     "data": {
      "text/plain": [
       "warning: there was one deprecation warning; re-run with -deprecation for details\n"
      ]
     },
     "metadata": {},
     "output_type": "display_data"
    },
    {
     "data": {
      "text/plain": [
       "[name: string, age: int]"
      ]
     },
     "execution_count": 2,
     "metadata": {},
     "output_type": "execute_result"
    }
   ],
   "source": [
    "val userData = Array((\"Leo\", 16), (\"Marry\", 21), \n",
    "                     (\"Jack\", 14), (\"Tom\", 18))\n",
    "//创建测试df\n",
    "val userDF = sc.parallelize(userData).toDF(\"name\", \"age\")\n",
    "// 注册一张user表\n",
    "//userDF.registerTempTable(\"user\")\n",
    "userDF.createOrReplaceTempView(\"user\")"
   ]
  },
  {
   "cell_type": "markdown",
   "metadata": {},
   "source": [
    "# sparksql udf \n",
    "老版本就用sqlContext.udf"
   ]
  },
  {
   "cell_type": "code",
   "execution_count": 7,
   "metadata": {
    "collapsed": false
   },
   "outputs": [
    {
     "name": "stdout",
     "output_type": "stream",
     "text": [
      "+-----+---+--------+-------+\n",
      "| name|age|name_len|isAdult|\n",
      "+-----+---+--------+-------+\n",
      "|  Leo| 16|       3|  false|\n",
      "|Marry| 21|       5|   true|\n",
      "| Jack| 14|       4|  false|\n",
      "|  Tom| 18|       3|   true|\n",
      "+-----+---+--------+-------+\n",
      "\n"
     ]
    }
   ],
   "source": [
    "//注册自定义函数（通过匿名函数）\n",
    "spark.udf.register(\"strLen\", (str: String) => str.length())\n",
    "//注册自定义函数（通过实名函数）\n",
    "spark.udf.register(\"isAdult\", isAdult _)\n",
    "spark.sql(\"select *,strLen(name) as name_len,isAdult(age) as isAdult from user\").show\n"
   ]
  },
  {
   "cell_type": "markdown",
   "metadata": {},
   "source": [
    "# spark DF udf"
   ]
  },
  {
   "cell_type": "code",
   "execution_count": 38,
   "metadata": {
    "collapsed": false
   },
   "outputs": [
    {
     "name": "stdout",
     "output_type": "stream",
     "text": [
      "+-----+---+-------+\n",
      "| name|age|isAdult|\n",
      "+-----+---+-------+\n",
      "|  Leo| 16|  false|\n",
      "|Marry| 21|   true|\n",
      "| Jack| 14|  false|\n",
      "|  Tom| 18|   true|\n",
      "+-----+---+-------+\n",
      "\n"
     ]
    },
    {
     "data": {
      "text/plain": [
       "strLen = UserDefinedFunction(<function1>,IntegerType,Some(List(StringType)))\n",
       "udf_isAdult = UserDefinedFunction(<function1>,BooleanType,Some(List(IntegerType)))\n"
      ]
     },
     "metadata": {},
     "output_type": "display_data"
    },
    {
     "data": {
      "text/plain": [
       "UserDefinedFunction(<function1>,BooleanType,Some(List(IntegerType)))"
      ]
     },
     "execution_count": 38,
     "metadata": {},
     "output_type": "execute_result"
    }
   ],
   "source": [
    "// 这里的udf来自于spark sql.function.udf\n",
    "//注册自定义函数（通过匿名函数）\n",
    "val strLen = udf((str: String) => str.length())\n",
    "//注册自定义函数（通过实名函数）\n",
    "val udf_isAdult = udf(isAdult _)\n",
    "//userDF.withColumn(\"name_len\", strLen(col(\"name\").cast(\"String\"))).show()\n",
    "userDF.withColumn(\"isAdult\", udf_isAdult(col(\"age\").cast(\"Int\"))).show()\n"
   ]
  },
  {
   "cell_type": "code",
   "execution_count": 18,
   "metadata": {
    "collapsed": false
   },
   "outputs": [
    {
     "name": "stdout",
     "output_type": "stream",
     "text": [
      "root\n",
      " |-- name: string (nullable = true)\n",
      " |-- age: integer (nullable = true)\n",
      "\n"
     ]
    }
   ],
   "source": [
    "userDF.printSchema()"
   ]
  },
  {
   "cell_type": "code",
   "execution_count": 40,
   "metadata": {
    "collapsed": false
   },
   "outputs": [
    {
     "name": "stdout",
     "output_type": "stream",
     "text": [
      "+-----+---+--------+-------+\n",
      "| name|age|name_len|isAdult|\n",
      "+-----+---+--------+-------+\n",
      "|  Leo| 16|       3|  false|\n",
      "|Marry| 21|       5|   true|\n",
      "| Jack| 14|       4|  false|\n",
      "|  Tom| 18|       3|   true|\n",
      "+-----+---+--------+-------+\n",
      "\n"
     ]
    }
   ],
   "source": [
    "userDF.select(col(\"*\"), strLen(col(\"name\")) as(\"name_len\"), udf_isAdult(col(\"age\")) as \"isAdult\").show"
   ]
  },
  {
   "cell_type": "code",
   "execution_count": 56,
   "metadata": {
    "collapsed": false
   },
   "outputs": [
    {
     "data": {
      "text/plain": [
       "Array(name, age)"
      ]
     },
     "execution_count": 56,
     "metadata": {},
     "output_type": "execute_result"
    }
   ],
   "source": [
    "// 此函数 column后面不能跟（）\n",
    "userDF.columns"
   ]
  },
  {
   "cell_type": "code",
   "execution_count": 48,
   "metadata": {
    "collapsed": false
   },
   "outputs": [
    {
     "name": "stdout",
     "output_type": "stream",
     "text": [
      "name\n",
      "age\n"
     ]
    },
    {
     "data": {
      "text/plain": [
       "aa: String = \"\"\n"
      ]
     },
     "metadata": {},
     "output_type": "display_data"
    }
   ],
   "source": [
    "var aa=\"\"\n",
    "for(aa <- userDF.columns){println(aa)}"
   ]
  },
  {
   "cell_type": "code",
   "execution_count": 61,
   "metadata": {
    "collapsed": false
   },
   "outputs": [
    {
     "name": "stdout",
     "output_type": "stream",
     "text": [
      "+----------------+\n",
      "|UDF:isAdult(age)|\n",
      "+----------------+\n",
      "|           false|\n",
      "|            true|\n",
      "|           false|\n",
      "|            true|\n",
      "+----------------+\n",
      "\n"
     ]
    },
    {
     "data": {
      "text/plain": [
       "lastException: Throwable = null\n"
      ]
     },
     "metadata": {},
     "output_type": "display_data"
    }
   ],
   "source": [
    "sql.function.udf\n",
    "spark.sql(\"select isAdult(age) from user\").show()"
   ]
  },
  {
   "cell_type": "code",
   "execution_count": null,
   "metadata": {
    "collapsed": true
   },
   "outputs": [],
   "source": []
  }
 ],
 "metadata": {
  "kernelspec": {
   "display_name": "Spark2.1.3 - Scala",
   "language": "scala",
   "name": "spark2.1.3_scala"
  },
  "language_info": {
   "codemirror_mode": "text/x-scala",
   "file_extension": ".scala",
   "mimetype": "text/x-scala",
   "name": "scala",
   "pygments_lexer": "scala",
   "version": "2.11.12"
  }
 },
 "nbformat": 4,
 "nbformat_minor": 0
}
