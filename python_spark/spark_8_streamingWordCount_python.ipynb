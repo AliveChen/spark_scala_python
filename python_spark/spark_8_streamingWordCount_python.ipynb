{
 "cells": [
  {
   "cell_type": "markdown",
   "metadata": {},
   "source": [
    "# it dont work in notebook"
   ]
  },
  {
   "cell_type": "code",
   "execution_count": 6,
   "metadata": {
    "collapsed": true
   },
   "outputs": [],
   "source": [
    "import time\n",
    "from pyspark.streaming import StreamingContext\n",
    "from pyspark import SparkConf\n",
    "from pyspark.context import SparkContext\n",
    "\n",
    "\n",
    "def spark_8_streamWordCount():\n",
    "\n",
    "    # local>=2 1.recive 1.work\n",
    "    conf = SparkConf() \\\n",
    "      .setMaster(\"local[*]\") \\\n",
    "      .setAppName(\"streamingWordCount\")\n",
    "    sc = SparkContext(conf=conf)\n",
    "    ssc = StreamingContext(sc, 1)\n",
    "\n",
    "    \n",
    "    lines = ssc.socketTextStream(\"localhost\", 9999)\n",
    "    words = lines.flatMap(lambda x:x.split(\" \"))\n",
    "    pairs = words.map( lambda word: (word,1))\n",
    "    wordCount = pairs.reduceByKey(lambda x,y :x+y)\n",
    "    \n",
    "    #time.sleep(5)\n",
    "    wordCount.pprint()\n",
    "    # scala :print python :pprint\n",
    "    \n",
    "    ssc.start()\n",
    "    ssc.awaitTermination()\n",
    "\n"
   ]
  },
  {
   "cell_type": "code",
   "execution_count": 8,
   "metadata": {
    "collapsed": false
   },
   "outputs": [],
   "source": [
    "# spark_8_streamWordCount()"
   ]
  },
  {
   "cell_type": "code",
   "execution_count": null,
   "metadata": {
    "collapsed": true
   },
   "outputs": [],
   "source": []
  }
 ],
 "metadata": {
  "kernelspec": {
   "display_name": "Python 3",
   "language": "python",
   "name": "python3"
  },
  "language_info": {
   "codemirror_mode": {
    "name": "ipython",
    "version": 3
   },
   "file_extension": ".py",
   "mimetype": "text/x-python",
   "name": "python",
   "nbconvert_exporter": "python",
   "pygments_lexer": "ipython3",
   "version": "3.5.1"
  }
 },
 "nbformat": 4,
 "nbformat_minor": 0
}
