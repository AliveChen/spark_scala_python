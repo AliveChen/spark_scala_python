{
 "cells": [
  {
   "cell_type": "code",
   "execution_count": 1,
   "metadata": {
    "collapsed": false
   },
   "outputs": [
    {
     "data": {
      "text/plain": [
       "'local[*]'"
      ]
     },
     "execution_count": 1,
     "metadata": {},
     "output_type": "execute_result"
    }
   ],
   "source": [
    "sc.master"
   ]
  },
  {
   "cell_type": "code",
   "execution_count": 3,
   "metadata": {
    "collapsed": false
   },
   "outputs": [],
   "source": [
    "from pyspark.sql.types import *\n",
    "from pyspark.sql.functions import *\n",
    "from pyspark.sql import Row\n",
    "from pyspark.sql.window import Window\n",
    "from pyspark.sql.functions import dense_rank\n",
    "from pyspark.sql.functions import row_number"
   ]
  },
  {
   "cell_type": "code",
   "execution_count": 4,
   "metadata": {
    "collapsed": false
   },
   "outputs": [],
   "source": [
    "UserAcessLog = [\"2019-05-29,aa,3\",\"2019-05-29,bb,12\",\n",
    "                         \"2019-05-29,aa,65\",\"2019-05-29,cc,\",\n",
    "                         \"2019-05-30,aa,56\",\"2019-05-30,ee,45\",\n",
    "                         \"2019-05-30,aa,45\",\"2019-05-30,aa,30\"\n",
    "                        ]\n",
    "LogStrRDD = sc.parallelize(UserAcessLog,1).filter(lambda line: True if (len(line.split(',')[2])>0) else False)\n",
    "\n",
    "LogStrRDD = LogStrRDD.map(lambda line  :\\\n",
    "                     Row(line.split(\",\")[0], \n",
    "                         line.split(\",\")[1],\n",
    "                        int(line.split(\",\")[2])))\n",
    "# \n",
    "schema = StructType([StructField(\"date\",StringType()),\n",
    "                     StructField(\"userid\",StringType()),\n",
    "                     StructField(\"click\",IntegerType())])\n"
   ]
  },
  {
   "cell_type": "code",
   "execution_count": 56,
   "metadata": {
    "collapsed": false
   },
   "outputs": [],
   "source": [
    "#row里如果有int型，直接take在python会在报错row里如果有int型，\n",
    "#直接take在python会在报错\n",
    "#LogStrRDD.take(20) "
   ]
  },
  {
   "cell_type": "code",
   "execution_count": 5,
   "metadata": {
    "collapsed": false
   },
   "outputs": [
    {
     "name": "stdout",
     "output_type": "stream",
     "text": [
      "+----------+------+-----+\n",
      "|      date|userid|click|\n",
      "+----------+------+-----+\n",
      "|2019-05-29|    aa|    3|\n",
      "|2019-05-29|    bb|   12|\n",
      "|2019-05-29|    aa|   65|\n",
      "|2019-05-30|    aa|   56|\n",
      "|2019-05-30|    ee|   45|\n",
      "|2019-05-30|    aa|   45|\n",
      "|2019-05-30|    aa|   30|\n",
      "+----------+------+-----+\n",
      "\n"
     ]
    }
   ],
   "source": [
    "LogDF = spark.createDataFrame(LogStrRDD,schema)\n",
    "LogDF.show(10)"
   ]
  },
  {
   "cell_type": "code",
   "execution_count": 61,
   "metadata": {
    "collapsed": false
   },
   "outputs": [
    {
     "name": "stdout",
     "output_type": "stream",
     "text": [
      "+----------+---+---------+\n",
      "|      date| ss|click_sum|\n",
      "+----------+---+---------+\n",
      "|2019-05-29|  2|       80|\n",
      "|2019-05-30|  2|      176|\n",
      "+----------+---+---------+\n",
      "\n"
     ]
    }
   ],
   "source": [
    "# Python版本agg里 只能用alias别名，as报错\n",
    "LogDF.groupBy(\"date\").agg(\n",
    "    countDistinct(\"userid\").alias(\"ss\"),\n",
    "    sum(\"click\").alias(\"click_sum\")).show()"
   ]
  },
  {
   "cell_type": "markdown",
   "metadata": {
    "collapsed": true
   },
   "source": [
    "# 开窗函数：分组求topn"
   ]
  },
  {
   "cell_type": "code",
   "execution_count": 14,
   "metadata": {
    "collapsed": false
   },
   "outputs": [
    {
     "data": {
      "text/plain": [
       "<bound method DataFrame.printSchema of DataFrame[date: string, userid: string, click: int]>"
      ]
     },
     "execution_count": 14,
     "metadata": {},
     "output_type": "execute_result"
    }
   ],
   "source": [
    "LogDF.printSchema"
   ]
  },
  {
   "cell_type": "code",
   "execution_count": 24,
   "metadata": {
    "collapsed": false
   },
   "outputs": [
    {
     "name": "stdout",
     "output_type": "stream",
     "text": [
      "+----------+------+-----+---+\n",
      "|      date|userid|click|new|\n",
      "+----------+------+-----+---+\n",
      "|2019-05-29|    aa|    3| 13|\n",
      "|2019-05-29|    bb|   12| 22|\n",
      "|2019-05-29|    aa|   65| 75|\n",
      "|2019-05-30|    aa|   56| 66|\n",
      "|2019-05-30|    ee|   45| 55|\n",
      "|2019-05-30|    aa|   45| 55|\n",
      "|2019-05-30|    aa|   30| 40|\n",
      "+----------+------+-----+---+\n",
      "\n"
     ]
    }
   ],
   "source": [
    "LogDF[[\"date\",\"userid\",\"click\",(LogDF.click+10).alias(\"new\")]].show()"
   ]
  },
  {
   "cell_type": "code",
   "execution_count": 20,
   "metadata": {
    "collapsed": false
   },
   "outputs": [
    {
     "name": "stdout",
     "output_type": "stream",
     "text": [
      "+----------+------+-----+----+\n",
      "|      date|userid|click|rank|\n",
      "+----------+------+-----+----+\n",
      "|2019-05-29|    aa|    3|   1|\n",
      "|2019-05-29|    bb|   12|   2|\n",
      "|2019-05-29|    aa|   65|   3|\n",
      "|2019-05-30|    aa|   30|   1|\n",
      "|2019-05-30|    ee|   45|   2|\n",
      "|2019-05-30|    aa|   45|   2|\n",
      "|2019-05-30|    aa|   56|   3|\n",
      "+----------+------+-----+----+\n",
      "\n"
     ]
    }
   ],
   "source": [
    "LogDF.select(\"date\",\"userid\",\"click\",\n",
    "             dense_rank().over(\n",
    "                Window.partitionBy(\"date\").orderBy(\"click\")).alias(\"rank\")\n",
    "            ).show()"
   ]
  },
  {
   "cell_type": "code",
   "execution_count": null,
   "metadata": {
    "collapsed": true
   },
   "outputs": [],
   "source": []
  }
 ],
 "metadata": {
  "kernelspec": {
   "display_name": "Python 3",
   "language": "python",
   "name": "python3"
  },
  "language_info": {
   "codemirror_mode": {
    "name": "ipython",
    "version": 3
   },
   "file_extension": ".py",
   "mimetype": "text/x-python",
   "name": "python",
   "nbconvert_exporter": "python",
   "pygments_lexer": "ipython3",
   "version": "3.5.1"
  }
 },
 "nbformat": 4,
 "nbformat_minor": 0
}
