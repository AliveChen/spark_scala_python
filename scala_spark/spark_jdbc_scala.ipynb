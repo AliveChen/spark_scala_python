{
 "cells": [
  {
   "cell_type": "code",
   "execution_count": 13,
   "metadata": {
    "collapsed": false
   },
   "outputs": [],
   "source": [
    "import org.apache.spark.sql.hive.HiveContext\n",
    "import org.apache.spark.sql.SaveMode"
   ]
  },
  {
   "cell_type": "code",
   "execution_count": 4,
   "metadata": {
    "collapsed": false
   },
   "outputs": [
    {
     "data": {
      "text/plain": [
       "hiveContext = org.apache.spark.sql.hive.HiveContext@74ce28be\n"
      ]
     },
     "metadata": {},
     "output_type": "display_data"
    },
    {
     "data": {
      "text/plain": [
       "warning: there was one deprecation warning; re-run with -deprecation for details\n"
      ]
     },
     "metadata": {},
     "output_type": "display_data"
    },
    {
     "data": {
      "text/plain": [
       "org.apache.spark.sql.hive.HiveContext@74ce28be"
      ]
     },
     "execution_count": 4,
     "metadata": {},
     "output_type": "execute_result"
    }
   ],
   "source": [
    "val hiveContext = new HiveContext(sc)"
   ]
  },
  {
   "cell_type": "code",
   "execution_count": 7,
   "metadata": {
    "collapsed": false
   },
   "outputs": [
    {
     "name": "stdout",
     "output_type": "stream",
     "text": [
      "Tue Jun 18 22:25:25 CHOT 2019 WARN: Establishing SSL connection without server's identity verification is not recommended. According to MySQL 5.5.45+, 5.6.26+ and 5.7.6+ requirements SSL connection must be established by default if explicit option isn't set. For compliance with existing applications not using SSL the verifyServerCertificate property is set to 'false'. You need either to explicitly disable SSL by setting useSSL=false, or set useSSL=true and provide truststore for server certificate verification.\n",
      "Tue Jun 18 22:25:25 CHOT 2019 WARN: Establishing SSL connection without server's identity verification is not recommended. According to MySQL 5.5.45+, 5.6.26+ and 5.7.6+ requirements SSL connection must be established by default if explicit option isn't set. For compliance with existing applications not using SSL the verifyServerCertificate property is set to 'false'. You need either to explicitly disable SSL by setting useSSL=false, or set useSSL=true and provide truststore for server certificate verification.\n",
      "Tue Jun 18 22:25:25 CHOT 2019 WARN: Establishing SSL connection without server's identity verification is not recommended. According to MySQL 5.5.45+, 5.6.26+ and 5.7.6+ requirements SSL connection must be established by default if explicit option isn't set. For compliance with existing applications not using SSL the verifyServerCertificate property is set to 'false'. You need either to explicitly disable SSL by setting useSSL=false, or set useSSL=true and provide truststore for server certificate verification.\n",
      "Tue Jun 18 22:25:25 CHOT 2019 WARN: Establishing SSL connection without server's identity verification is not recommended. According to MySQL 5.5.45+, 5.6.26+ and 5.7.6+ requirements SSL connection must be established by default if explicit option isn't set. For compliance with existing applications not using SSL the verifyServerCertificate property is set to 'false'. You need either to explicitly disable SSL by setting useSSL=false, or set useSSL=true and provide truststore for server certificate verification.\n",
      "Tue Jun 18 22:25:26 CHOT 2019 WARN: Establishing SSL connection without server's identity verification is not recommended. According to MySQL 5.5.45+, 5.6.26+ and 5.7.6+ requirements SSL connection must be established by default if explicit option isn't set. For compliance with existing applications not using SSL the verifyServerCertificate property is set to 'false'. You need either to explicitly disable SSL by setting useSSL=false, or set useSSL=true and provide truststore for server certificate verification.\n",
      "Tue Jun 18 22:25:26 CHOT 2019 WARN: Establishing SSL connection without server's identity verification is not recommended. According to MySQL 5.5.45+, 5.6.26+ and 5.7.6+ requirements SSL connection must be established by default if explicit option isn't set. For compliance with existing applications not using SSL the verifyServerCertificate property is set to 'false'. You need either to explicitly disable SSL by setting useSSL=false, or set useSSL=true and provide truststore for server certificate verification.\n",
      "Tue Jun 18 22:25:26 CHOT 2019 WARN: Establishing SSL connection without server's identity verification is not recommended. According to MySQL 5.5.45+, 5.6.26+ and 5.7.6+ requirements SSL connection must be established by default if explicit option isn't set. For compliance with existing applications not using SSL the verifyServerCertificate property is set to 'false'. You need either to explicitly disable SSL by setting useSSL=false, or set useSSL=true and provide truststore for server certificate verification.\n",
      "Tue Jun 18 22:25:26 CHOT 2019 WARN: Establishing SSL connection without server's identity verification is not recommended. According to MySQL 5.5.45+, 5.6.26+ and 5.7.6+ requirements SSL connection must be established by default if explicit option isn't set. For compliance with existing applications not using SSL the verifyServerCertificate property is set to 'false'. You need either to explicitly disable SSL by setting useSSL=false, or set useSSL=true and provide truststore for server certificate verification.\n",
      "Tue Jun 18 22:25:38 CHOT 2019 WARN: Establishing SSL connection without server's identity verification is not recommended. According to MySQL 5.5.45+, 5.6.26+ and 5.7.6+ requirements SSL connection must be established by default if explicit option isn't set. For compliance with existing applications not using SSL the verifyServerCertificate property is set to 'false'. You need either to explicitly disable SSL by setting useSSL=false, or set useSSL=true and provide truststore for server certificate verification.\n",
      "Tue Jun 18 22:25:54 CHOT 2019 WARN: Establishing SSL connection without server's identity verification is not recommended. According to MySQL 5.5.45+, 5.6.26+ and 5.7.6+ requirements SSL connection must be established by default if explicit option isn't set. For compliance with existing applications not using SSL the verifyServerCertificate property is set to 'false'. You need either to explicitly disable SSL by setting useSSL=false, or set useSSL=true and provide truststore for server certificate verification.\n",
      "+----+---+------+--------+\n",
      "|name| id|salary|    city|\n",
      "+----+---+------+--------+\n",
      "| Mac|  3|  2000|   hebei|\n",
      "| fff|  4|  3000|   hebei|\n",
      "|name|  1|  1000| beijing|\n",
      "|user|  2|  5000|shanghai|\n",
      "| Mac|  3|  2000|   hebei|\n",
      "| fff|  4|  3000|   hebei|\n",
      "| Mac|  3|  2000|   hebei|\n",
      "| fff|  4|  3000|   hebei|\n",
      "| Mac|  3|  2000|   hebei|\n",
      "| fff|  4|  3000|   hebei|\n",
      "| Mac|  3|  2000|   hebei|\n",
      "| fff|  4|  3000|   hebei|\n",
      "| Mac|  3|  2000|   hebei|\n",
      "| fff|  4|  3000|   hebei|\n",
      "| Mac|  3|  2000|   hebei|\n",
      "| fff|  4|  3000|   hebei|\n",
      "| Mac|  3|  2000|   hebei|\n",
      "| fff|  4|  3000|   hebei|\n",
      "| Mac|  3|  2000|   hebei|\n",
      "| fff|  4|  3000|   hebei|\n",
      "+----+---+------+--------+\n",
      "\n"
     ]
    },
    {
     "data": {
      "text/plain": [
       "dataframe_mysql = [name: string, id: int ... 2 more fields]\n"
      ]
     },
     "metadata": {},
     "output_type": "display_data"
    },
    {
     "data": {
      "text/plain": [
       "[name: string, id: int ... 2 more fields]"
      ]
     },
     "execution_count": 7,
     "metadata": {},
     "output_type": "execute_result"
    }
   ],
   "source": [
    "val dataframe_mysql = hiveContext.read.format(\"jdbc\")\n",
    "      .option(\"driver\", \"com.mysql.cj.jdbc.Driver\")\n",
    "      .option(\"url\", \"jdbc:mysql://localhost:3306\")\n",
    "      .option(\"dbtable\", \"dbtest.EMPLOYEE\")\n",
    "      .option(\"user\", \"root\")\n",
    "      .option(\"password\", \"123456\")\n",
    "      .option(\"fetchsize\", \"3\")\n",
    "      .load()\n",
    "dataframe_mysql.show()"
   ]
  },
  {
   "cell_type": "code",
   "execution_count": 10,
   "metadata": {
    "collapsed": false
   },
   "outputs": [
    {
     "data": {
      "text/plain": [
       "Name: Compile Error\n",
       "Message: <console>:33: error: too many arguments for method saveAsTable: (tableName: String)Unit\n",
       "       dataframe_mysql.write.saveAsTable(\"myhive.test07\", \"csv\", \"append\", partitionBy=(\"id\",\"city\"))\n",
       "                                        ^\n",
       "\n",
       "StackTrace: "
      ]
     },
     "execution_count": 10,
     "metadata": {},
     "output_type": "execute_result"
    }
   ],
   "source": [
    "//dataframe_mysql.write.saveAsTable(\"myhive.test07\", \"csv\", \"append\", partitionBy=(\"id\",\"city\"))"
   ]
  },
  {
   "cell_type": "markdown",
   "metadata": {},
   "source": [
    "frormat include \"parquet\", \"json\"\"csv\"\n",
    "\n",
    "\"overwrite\"也可以，SavaMode 是spark.sql的方法\n",
    "\n",
    "SaveMode.Overwrite: overwrite the existing data.\n",
    "SaveMode.Append: append the data.\n",
    "SaveMode.Ignore: ignore the operation (i.e. no-op).\n",
    "SaveMode.ErrorIfExists: default option, throw an exception at runtime\n",
    "\n",
    "默认存parqut，但hive和spark的parquet在decimal上精度不同，设置采用标准parquet\n",
    "\n",
    ".config(\"spark.sql.parquet.writeLegacyFormat\", true)\n",
    "\n",
    "spark读取数据会自动推断数据类型如201809str推断为int，可以关闭这个功能\n",
    "\n",
    ".config(\"spark.sql.sources.partitionColumnTypeInference.enabled\",false)"
   ]
  },
  {
   "cell_type": "code",
   "execution_count": 21,
   "metadata": {
    "collapsed": false
   },
   "outputs": [
    {
     "name": "stdout",
     "output_type": "stream",
     "text": [
      "Tue Jun 18 23:19:09 CHOT 2019 WARN: Establishing SSL connection without server's identity verification is not recommended. According to MySQL 5.5.45+, 5.6.26+ and 5.7.6+ requirements SSL connection must be established by default if explicit option isn't set. For compliance with existing applications not using SSL the verifyServerCertificate property is set to 'false'. You need either to explicitly disable SSL by setting useSSL=false, or set useSSL=true and provide truststore for server certificate verification.\n"
     ]
    }
   ],
   "source": [
    "dataframe_mysql.write.mode(SaveMode.Append).format(\"csv\").partitionBy(\"id\",\"city\").saveAsTable(\"myhive.test09\")"
   ]
  },
  {
   "cell_type": "code",
   "execution_count": 24,
   "metadata": {
    "collapsed": false
   },
   "outputs": [
    {
     "name": "stdout",
     "output_type": "stream",
     "text": [
      "Tue Jun 18 23:23:19 CHOT 2019 WARN: Establishing SSL connection without server's identity verification is not recommended. According to MySQL 5.5.45+, 5.6.26+ and 5.7.6+ requirements SSL connection must be established by default if explicit option isn't set. For compliance with existing applications not using SSL the verifyServerCertificate property is set to 'false'. You need either to explicitly disable SSL by setting useSSL=false, or set useSSL=true and provide truststore for server certificate verification.\n",
      "Tue Jun 18 23:23:19 CHOT 2019 WARN: Establishing SSL connection without server's identity verification is not recommended. According to MySQL 5.5.45+, 5.6.26+ and 5.7.6+ requirements SSL connection must be established by default if explicit option isn't set. For compliance with existing applications not using SSL the verifyServerCertificate property is set to 'false'. You need either to explicitly disable SSL by setting useSSL=false, or set useSSL=true and provide truststore for server certificate verification.\n",
      "Tue Jun 18 23:23:20 CHOT 2019 WARN: Establishing SSL connection without server's identity verification is not recommended. According to MySQL 5.5.45+, 5.6.26+ and 5.7.6+ requirements SSL connection must be established by default if explicit option isn't set. For compliance with existing applications not using SSL the verifyServerCertificate property is set to 'false'. You need either to explicitly disable SSL by setting useSSL=false, or set useSSL=true and provide truststore for server certificate verification.\n",
      "Tue Jun 18 23:23:20 CHOT 2019 WARN: Establishing SSL connection without server's identity verification is not recommended. According to MySQL 5.5.45+, 5.6.26+ and 5.7.6+ requirements SSL connection must be established by default if explicit option isn't set. For compliance with existing applications not using SSL the verifyServerCertificate property is set to 'false'. You need either to explicitly disable SSL by setting useSSL=false, or set useSSL=true and provide truststore for server certificate verification.\n"
     ]
    }
   ],
   "source": [
    "dataframe_mysql.write.mode(\"append\").format(\"jdbc\")\n",
    "    .option(\"driver\", \"com.mysql.cj.jdbc.Driver\")\n",
    "      .option(\"url\", \"jdbc:mysql://localhost:3306\")\n",
    "      .option(\"dbtable\", \"dbtest.test08\")\n",
    "      .option(\"user\", \"root\")\n",
    "      .option(\"password\", \"123456\")\n",
    "      .option(\"fetchsize\", \"3\")\n",
    "        .save()"
   ]
  },
  {
   "cell_type": "code",
   "execution_count": null,
   "metadata": {
    "collapsed": true
   },
   "outputs": [],
   "source": []
  }
 ],
 "metadata": {
  "kernelspec": {
   "display_name": "Spark2.1.3 - Scala",
   "language": "scala",
   "name": "spark2.1.3_scala"
  },
  "language_info": {
   "codemirror_mode": "text/x-scala",
   "file_extension": ".scala",
   "mimetype": "text/x-scala",
   "name": "scala",
   "pygments_lexer": "scala",
   "version": "2.11.12"
  }
 },
 "nbformat": 4,
 "nbformat_minor": 0
}
